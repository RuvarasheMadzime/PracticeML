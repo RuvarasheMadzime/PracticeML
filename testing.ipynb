{
 "cells": [
  {
   "cell_type": "code",
   "execution_count": 25,
   "id": "e8ae465a",
   "metadata": {},
   "outputs": [],
   "source": [
    "import pandas\n",
    "from pandas.plotting import scatter_matrix\n",
    "import matplotlib.pyplot as plt\n",
    "from sklearn import model_selection\n",
    "from sklearn.linear_model import LinearRegression\n",
    "from sklearn.metrics import classification_report\n",
    "from sklearn.metrics import confusion_matrix\n",
    "from sklearn.metrics import accuracy_score\n",
    "from sklearn.linear_model import LogisticRegression\n",
    "from sklearn.tree import DecisionTreeClassifier\n",
    "from sklearn.neighbors import KNeighborsClassifier\n",
    "from sklearn.discriminant_analysis import LinearDiscriminantAnalysis\n",
    "from sklearn.naive_bayes import GaussianNB\n",
    "from sklearn.svm import SVC\n"
   ]
  },
  {
   "cell_type": "code",
   "execution_count": 2,
   "id": "a88111f9",
   "metadata": {},
   "outputs": [],
   "source": [
    "path=\"C:/Users/ruvas/Downloads/capstone2023/Training.csv\"\n",
    "names=[\"itching\", \"skin_rash\", \"nodal_skin_eruptions\", \"continuous_sneezing\", \"shivering\", \"chills\", \"joint_pain\", \"stomach_pain\", \"acidity\", \"ulcers_on_tongue\", \"muscle_wasting\", \"vomiting\", \"burning_micturition\", \"spotting_urination\", \"fatigue\", \"weight_gain\", \"anxiety\", \"cold_hands_and_feets\", \"mood_swings\", \"weight_loss\", \"restlessness\", \"lethargy\", \"patches_in_throat\", \"irregular_sugar_level\", \"cough\", \"high_fever\", \"sunken_eyes\", \"breathlessness\", \"sweating\", \"dehydration\", \"indigestion\", \"headache\", \"yellowish_skin\", \"dark_urine\", \"nausea\", \"loss_of_appetite\", \"pain_behind_the_eyes\", \"back_pain\", \"constipation\", \"abdominal_pain\", \"diarrhoea\", \"mild_fever\", \"yellow_urine\", \"yellowing_of_eyes\", \"acute_liver_failure\", \"fluid_overload\", \"swelling_of_stomach\", \"swelled_lymph_nodes\", \"malaise\", \"blurred_and_distorted_vision\", \"phlegm\", \"throat_irritation\", \"redness_of_eyes\", \"sinus_pressure\", \"runny_nose\", \"congestion\", \"chest_pain\", \"weakness_in_limbs\", \"fast_heart_rate\", \"pain_during_bowel_movements\", \"pain_in_anal_region\", \"bloody_stool\", \"irritation_in_anus\", \"neck_pain\", \"dizziness\", \"cramps\", \"bruising\", \"obesity\", \"swollen_legs\", \"swollen_blood_vessels\", \"puffy_face_and_eyes\", \"enlarged_thyroid\", \"brittle_nails\", \"swollen_extremeties\", \"excessive_hunger\", \"extra_marital_contacts\", \"drying_and_tingling_lips\", \"slurred_speech\", \"knee_pain\", \"hip_joint_pain\", \"muscle_weakness\", \"stiff_neck\", \"swelling_joints\", \"movement_stiffness\", \"spinning_movements\", \"loss_of_balance\", \"unsteadiness\", \"weakness_of_one_body_side\", \"loss_of_smell\", \"bladder_discomfort\", \"foul_smell_of_urine\", \"continuous_feel_of_urine\", \"passage_of_gases\", \"internal_itching\", \"toxic_look_(typhos)\", \"depression\", \"irritability\", \"muscle_pain\", \"altered_sensorium\", \"red_spots_over_body\", \"belly_pain\", \"abnormal_menstruation\", \"dischromic_patches\", \"watering_from_eyes\", \"increased_appetite\", \"polyuria\", \"family_history\", \"mucoid_sputum\", \"rusty_sputum\", \"lack_of_concentration\", \"visual_disturbances\", \"receiving_blood_transfusion\", \"receiving_unsterile_injections\", \"coma\", \"stomach_bleeding\", \"distention_of_abdomen\", \"history_of_alcohol_consumption\", \"fluid_overload\", \"blood_in_sputum\", \"prominent_veins_on_calf\", \"palpitations\", \"painful_walking\", \"pus_filled_pimples\", \"blackheads\", \"scurring\", \"skin_peeling\", \"silver_like_dusting\", \"small_dents_in_nails\", \"inflammatory_nails\", \"blister\", \"red_sore_around_nose\", \"yellow_crust_ooze\", \"prognosis\"]\n",
    "dataset=pandas.read_csv(path)"
   ]
  },
  {
   "cell_type": "code",
   "execution_count": 3,
   "id": "3e31012f",
   "metadata": {},
   "outputs": [
    {
     "name": "stdout",
     "output_type": "stream",
     "text": [
      "(4920, 134)\n"
     ]
    }
   ],
   "source": [
    "print(dataset.shape)"
   ]
  },
  {
   "cell_type": "code",
   "execution_count": 14,
   "id": "529bb3f8",
   "metadata": {},
   "outputs": [
    {
     "name": "stdout",
     "output_type": "stream",
     "text": [
      "(4920, 134)\n"
     ]
    }
   ],
   "source": []
  },
  {
   "cell_type": "code",
   "execution_count": 9,
   "id": "813c6138",
   "metadata": {},
   "outputs": [],
   "source": [
    "\n",
    "array = dataset.values\n",
    "X=array[:,0:132]\n",
    "Y=dataset[\"prognosis\"]\n",
    "validation_size = 0.20\n",
    "seed=42\n",
    "X_train, X_test, Y_train, Y_test = model_selection.train_test_split(X,Y,test_size=validation_size,random_state = seed)\n"
   ]
  },
  {
   "cell_type": "code",
   "execution_count": 11,
   "id": "9db5e01c",
   "metadata": {},
   "outputs": [],
   "source": [
    "seed=42\n",
    "scoring='accuracy'"
   ]
  },
  {
   "cell_type": "code",
   "execution_count": 16,
   "id": "02c8f412",
   "metadata": {},
   "outputs": [
    {
     "name": "stdout",
     "output_type": "stream",
     "text": [
      "                                         precision    recall  f1-score   support\n",
      "\n",
      "(vertigo) Paroymsal  Positional Vertigo       1.00      1.00      1.00        18\n",
      "                                   AIDS       1.00      1.00      1.00        30\n",
      "                                   Acne       1.00      1.00      1.00        24\n",
      "                    Alcoholic hepatitis       1.00      1.00      1.00        25\n",
      "                                Allergy       1.00      1.00      1.00        24\n",
      "                              Arthritis       1.00      1.00      1.00        23\n",
      "                       Bronchial Asthma       1.00      1.00      1.00        33\n",
      "                   Cervical spondylosis       1.00      1.00      1.00        23\n",
      "                            Chicken pox       1.00      1.00      1.00        21\n",
      "                    Chronic cholestasis       1.00      1.00      1.00        15\n",
      "                            Common Cold       1.00      1.00      1.00        23\n",
      "                                 Dengue       1.00      1.00      1.00        26\n",
      "                              Diabetes        1.00      1.00      1.00        21\n",
      "           Dimorphic hemmorhoids(piles)       1.00      1.00      1.00        29\n",
      "                          Drug Reaction       1.00      1.00      1.00        24\n",
      "                       Fungal infection       1.00      1.00      1.00        19\n",
      "                                   GERD       1.00      1.00      1.00        28\n",
      "                        Gastroenteritis       1.00      1.00      1.00        25\n",
      "                           Heart attack       1.00      1.00      1.00        23\n",
      "                            Hepatitis B       1.00      1.00      1.00        27\n",
      "                            Hepatitis C       1.00      1.00      1.00        26\n",
      "                            Hepatitis D       1.00      1.00      1.00        23\n",
      "                            Hepatitis E       1.00      1.00      1.00        29\n",
      "                          Hypertension        1.00      1.00      1.00        25\n",
      "                        Hyperthyroidism       1.00      1.00      1.00        24\n",
      "                           Hypoglycemia       1.00      1.00      1.00        26\n",
      "                         Hypothyroidism       1.00      1.00      1.00        21\n",
      "                               Impetigo       1.00      1.00      1.00        24\n",
      "                               Jaundice       1.00      1.00      1.00        19\n",
      "                                Malaria       1.00      1.00      1.00        22\n",
      "                               Migraine       1.00      1.00      1.00        25\n",
      "                        Osteoarthristis       1.00      1.00      1.00        22\n",
      "           Paralysis (brain hemorrhage)       1.00      1.00      1.00        24\n",
      "                    Peptic ulcer diseae       1.00      1.00      1.00        17\n",
      "                              Pneumonia       1.00      1.00      1.00        28\n",
      "                              Psoriasis       1.00      1.00      1.00        22\n",
      "                           Tuberculosis       1.00      1.00      1.00        25\n",
      "                                Typhoid       1.00      1.00      1.00        19\n",
      "                Urinary tract infection       1.00      1.00      1.00        26\n",
      "                         Varicose veins       1.00      1.00      1.00        22\n",
      "                            hepatitis A       1.00      1.00      1.00        34\n",
      "\n",
      "                               accuracy                           1.00       984\n",
      "                              macro avg       1.00      1.00      1.00       984\n",
      "                           weighted avg       1.00      1.00      1.00       984\n",
      "\n"
     ]
    }
   ],
   "source": [
    "LR_model=LogisticRegression() #the training model\n",
    "LR_model.fit(X_train,Y_train) \n",
    "\n",
    "#predicting y + classification report etc\n",
    "y_pred=LR_model.predict(X_test) \n",
    "print(classification_report(Y_test,y_pred))\n"
   ]
  },
  {
   "cell_type": "code",
   "execution_count": 22,
   "id": "4b85d062",
   "metadata": {},
   "outputs": [
    {
     "name": "stdout",
     "output_type": "stream",
     "text": [
      "                                         precision    recall  f1-score   support\n",
      "\n",
      "(vertigo) Paroymsal  Positional Vertigo       1.00      1.00      1.00        18\n",
      "                                   AIDS       1.00      1.00      1.00        30\n",
      "                                   Acne       1.00      1.00      1.00        24\n",
      "                    Alcoholic hepatitis       1.00      1.00      1.00        25\n",
      "                                Allergy       1.00      1.00      1.00        24\n",
      "                              Arthritis       1.00      1.00      1.00        23\n",
      "                       Bronchial Asthma       1.00      1.00      1.00        33\n",
      "                   Cervical spondylosis       1.00      1.00      1.00        23\n",
      "                            Chicken pox       1.00      1.00      1.00        21\n",
      "                    Chronic cholestasis       1.00      1.00      1.00        15\n",
      "                            Common Cold       1.00      1.00      1.00        23\n",
      "                                 Dengue       1.00      1.00      1.00        26\n",
      "                              Diabetes        1.00      1.00      1.00        21\n",
      "           Dimorphic hemmorhoids(piles)       1.00      1.00      1.00        29\n",
      "                          Drug Reaction       1.00      1.00      1.00        24\n",
      "                       Fungal infection       1.00      1.00      1.00        19\n",
      "                                   GERD       1.00      1.00      1.00        28\n",
      "                        Gastroenteritis       1.00      1.00      1.00        25\n",
      "                           Heart attack       1.00      1.00      1.00        23\n",
      "                            Hepatitis B       1.00      1.00      1.00        27\n",
      "                            Hepatitis C       1.00      1.00      1.00        26\n",
      "                            Hepatitis D       1.00      1.00      1.00        23\n",
      "                            Hepatitis E       1.00      1.00      1.00        29\n",
      "                          Hypertension        1.00      1.00      1.00        25\n",
      "                        Hyperthyroidism       1.00      1.00      1.00        24\n",
      "                           Hypoglycemia       1.00      1.00      1.00        26\n",
      "                         Hypothyroidism       1.00      1.00      1.00        21\n",
      "                               Impetigo       1.00      1.00      1.00        24\n",
      "                               Jaundice       1.00      1.00      1.00        19\n",
      "                                Malaria       1.00      1.00      1.00        22\n",
      "                               Migraine       1.00      1.00      1.00        25\n",
      "                        Osteoarthristis       1.00      1.00      1.00        22\n",
      "           Paralysis (brain hemorrhage)       1.00      1.00      1.00        24\n",
      "                    Peptic ulcer diseae       1.00      1.00      1.00        17\n",
      "                              Pneumonia       1.00      1.00      1.00        28\n",
      "                              Psoriasis       1.00      1.00      1.00        22\n",
      "                           Tuberculosis       1.00      1.00      1.00        25\n",
      "                                Typhoid       1.00      1.00      1.00        19\n",
      "                Urinary tract infection       1.00      1.00      1.00        26\n",
      "                         Varicose veins       1.00      1.00      1.00        22\n",
      "                            hepatitis A       1.00      1.00      1.00        34\n",
      "\n",
      "                               accuracy                           1.00       984\n",
      "                              macro avg       1.00      1.00      1.00       984\n",
      "                           weighted avg       1.00      1.00      1.00       984\n",
      "\n"
     ]
    }
   ],
   "source": [
    "svm_model=SVC()\n",
    "svm_model=svm_model.fit(X_train,Y_train)\n",
    "\n",
    "y_pred=svm_model.predict(X_test)\n",
    "print(classification_report(Y_test, y_pred))"
   ]
  },
  {
   "cell_type": "code",
   "execution_count": 24,
   "id": "fa869f9a",
   "metadata": {},
   "outputs": [
    {
     "name": "stdout",
     "output_type": "stream",
     "text": [
      "                                         precision    recall  f1-score   support\n",
      "\n",
      "(vertigo) Paroymsal  Positional Vertigo       1.00      1.00      1.00        18\n",
      "                                   AIDS       1.00      1.00      1.00        30\n",
      "                                   Acne       1.00      1.00      1.00        24\n",
      "                    Alcoholic hepatitis       1.00      1.00      1.00        25\n",
      "                                Allergy       1.00      1.00      1.00        24\n",
      "                              Arthritis       1.00      1.00      1.00        23\n",
      "                       Bronchial Asthma       1.00      1.00      1.00        33\n",
      "                   Cervical spondylosis       1.00      1.00      1.00        23\n",
      "                            Chicken pox       1.00      1.00      1.00        21\n",
      "                    Chronic cholestasis       1.00      1.00      1.00        15\n",
      "                            Common Cold       1.00      1.00      1.00        23\n",
      "                                 Dengue       1.00      1.00      1.00        26\n",
      "                              Diabetes        1.00      1.00      1.00        21\n",
      "           Dimorphic hemmorhoids(piles)       1.00      1.00      1.00        29\n",
      "                          Drug Reaction       1.00      1.00      1.00        24\n",
      "                       Fungal infection       1.00      1.00      1.00        19\n",
      "                                   GERD       1.00      1.00      1.00        28\n",
      "                        Gastroenteritis       1.00      1.00      1.00        25\n",
      "                           Heart attack       1.00      1.00      1.00        23\n",
      "                            Hepatitis B       1.00      1.00      1.00        27\n",
      "                            Hepatitis C       1.00      1.00      1.00        26\n",
      "                            Hepatitis D       1.00      1.00      1.00        23\n",
      "                            Hepatitis E       1.00      1.00      1.00        29\n",
      "                          Hypertension        1.00      1.00      1.00        25\n",
      "                        Hyperthyroidism       1.00      1.00      1.00        24\n",
      "                           Hypoglycemia       1.00      1.00      1.00        26\n",
      "                         Hypothyroidism       1.00      1.00      1.00        21\n",
      "                               Impetigo       1.00      1.00      1.00        24\n",
      "                               Jaundice       1.00      1.00      1.00        19\n",
      "                                Malaria       1.00      1.00      1.00        22\n",
      "                               Migraine       1.00      1.00      1.00        25\n",
      "                        Osteoarthristis       1.00      1.00      1.00        22\n",
      "           Paralysis (brain hemorrhage)       1.00      1.00      1.00        24\n",
      "                    Peptic ulcer diseae       1.00      1.00      1.00        17\n",
      "                              Pneumonia       1.00      1.00      1.00        28\n",
      "                              Psoriasis       1.00      1.00      1.00        22\n",
      "                           Tuberculosis       1.00      1.00      1.00        25\n",
      "                                Typhoid       1.00      1.00      1.00        19\n",
      "                Urinary tract infection       1.00      1.00      1.00        26\n",
      "                         Varicose veins       1.00      1.00      1.00        22\n",
      "                            hepatitis A       1.00      1.00      1.00        34\n",
      "\n",
      "                               accuracy                           1.00       984\n",
      "                              macro avg       1.00      1.00      1.00       984\n",
      "                           weighted avg       1.00      1.00      1.00       984\n",
      "\n"
     ]
    },
    {
     "name": "stderr",
     "output_type": "stream",
     "text": [
      "C:\\Users\\ruvas\\anaconda3\\lib\\site-packages\\sklearn\\neighbors\\_classification.py:228: FutureWarning: Unlike other reduction functions (e.g. `skew`, `kurtosis`), the default behavior of `mode` typically preserves the axis it acts along. In SciPy 1.11.0, this behavior will change: the default value of `keepdims` will become False, the `axis` over which the statistic is taken will be eliminated, and the value None will no longer be accepted. Set `keepdims` to True or False to avoid this warning.\n",
      "  mode, _ = stats.mode(_y[neigh_ind, k], axis=1)\n"
     ]
    }
   ],
   "source": [
    "knn_model=KNeighborsClassifier(n_neighbors=1) #the training model\n",
    "knn_model.fit(X_train,Y_train) \n",
    "\n",
    "#predicting y + classification report etc\n",
    "y_pred=knn_model.predict(X_test) \n",
    "print(classification_report(Y_test,y_pred))"
   ]
  },
  {
   "cell_type": "code",
   "execution_count": 6,
   "id": "90801aa3",
   "metadata": {},
   "outputs": [
    {
     "name": "stdout",
     "output_type": "stream",
     "text": [
      "LR: 1.000000 (0.000000)\n"
     ]
    }
   ],
   "source": [
    "#Im having trouble understanding clearly what is happening in this for loop, maybe comment and explain\n",
    "models=[]\n",
    "models.append(('LR',LogisticRegression()))\n",
    "results=[]\n",
    "names=[]\n",
    "for name, model in models:\n",
    "    kfold=model_selection.KFold(n_splits=10, shuffle=True, random_state=seed)\n",
    "    cv_results=model_selection.cross_val_score(model, X_train, Y_train, cv=kfold, scoring=scoring)\n",
    "    results.append(cv_results)\n",
    "    names.append(name)\n",
    "    msg=\"%s: %f (%f)\" % (name, cv_results.mean(), cv_results.std())\n",
    "    print(msg)"
   ]
  },
  {
   "cell_type": "code",
   "execution_count": null,
   "id": "169c9135",
   "metadata": {},
   "outputs": [],
   "source": []
  }
 ],
 "metadata": {
  "kernelspec": {
   "display_name": "Python 3 (ipykernel)",
   "language": "python",
   "name": "python3"
  },
  "language_info": {
   "codemirror_mode": {
    "name": "ipython",
    "version": 3
   },
   "file_extension": ".py",
   "mimetype": "text/x-python",
   "name": "python",
   "nbconvert_exporter": "python",
   "pygments_lexer": "ipython3",
   "version": "3.9.13"
  }
 },
 "nbformat": 4,
 "nbformat_minor": 5
}
